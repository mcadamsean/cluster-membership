{
 "cells": [
  {
   "cell_type": "markdown",
   "metadata": {},
   "source": [
    "# Data Processing\n",
    "\n",
    "This notebook takes the observerd data, and the Gala simulated data, and prepares it for use in the membership process. It works in the following steps:\n",
    "\n",
    "1. Import observed data and Gala simulated stars\n",
    "2. Produce new extinction-corrected magnitudes for the observed stars\n",
    "3. Truncate both datasets to the extinction-corrected completeness limit \n",
    "4. Calculate and append Galactic 'l' and 'b' coordinates to observed stars dataset\n",
    "5. Export "
   ]
  },
  {
   "cell_type": "code",
   "execution_count": 1,
   "metadata": {},
   "outputs": [],
   "source": [
    "# General imports\n",
    "import pandas as pd\n",
    "import numpy as np\n",
    "\n",
    "# Handling Gala .fits file\n",
    "from astropy.io import fits\n",
    "\n",
    "# To convert coordinates to Galactic l and b (for simulating field stars)\n",
    "from astropy.coordinates import SkyCoord\n",
    "import astropy.units as u"
   ]
  },
  {
   "cell_type": "markdown",
   "metadata": {},
   "source": [
    "# 1. Import data"
   ]
  },
  {
   "cell_type": "code",
   "execution_count": 2,
   "metadata": {},
   "outputs": [],
   "source": [
    "# Import observed data as a .csv\n",
    "observed_df_raw = pd.read_csv('C:/Users/smick/Desktop/Research/data/NGC6569_gaia_withRVs.csv')\n",
    "observed_df_raw = observed_df_raw.dropna(subset=['pmra', 'pmdec', 'parallax']) # we pnly want stars with observed motions and parallax\n",
    "\n",
    "# Open the .fits file for the Gala simulation\n",
    "with fits.open('C:/Users/smick/Desktop/Research/data/NGC6569_gala.fits') as hdul:\n",
    "    gala_data = hdul[1].data\n",
    "    \n",
    "gala_array = np.array(gala_data) # convert to a NumPy array\n",
    "gala_array = gala_array.byteswap().view(gala_array.dtype.newbyteorder('<')) # convert to little-endian format\n",
    "gala_df = pd.DataFrame({name: gala_array[name] for name in gala_array.dtype.names}) # Convert array to DataFrame "
   ]
  },
  {
   "cell_type": "markdown",
   "metadata": {},
   "source": [
    "# 2. Correct for Extinction"
   ]
  },
  {
   "cell_type": "code",
   "execution_count": 3,
   "metadata": {},
   "outputs": [],
   "source": [
    "# Correct for extinction before truncating. This is needed to reduce the significant impact of the dust lanes on the observed star densities\n",
    "observed_df_raw['gmag_extcorr'] = observed_df_raw['gmag'] - observed_df_raw['Ag']\n",
    "observed_df_raw['rmag_extcorr'] = observed_df_raw['rmag'] - observed_df_raw['Ar']\n",
    "observed_df_raw['imag_extcorr'] = observed_df_raw['imag'] - observed_df_raw['Ai']\n",
    "observed_df_raw['zmag_extcorr'] = observed_df_raw['zmag'] - observed_df_raw['Az']\n",
    "\n",
    "# Calculate average extinction in 'i' band\n",
    "avg_ext_i = np.mean(observed_df_raw['Ai'])"
   ]
  },
  {
   "cell_type": "markdown",
   "metadata": {},
   "source": [
    "# 3. Truncate to completeness limit"
   ]
  },
  {
   "cell_type": "code",
   "execution_count": 4,
   "metadata": {},
   "outputs": [
    {
     "name": "stdout",
     "output_type": "stream",
     "text": [
      "Stars in truncated observed dataset: 314736\n",
      "Stars in Gala dataset: 2747\n"
     ]
    }
   ],
   "source": [
    "# Truncating stars first to match the observed data's completeness limit\n",
    "observed_df_cut = observed_df_raw[(observed_df_raw['imag_extcorr'] > 9) & (observed_df_raw['imag_extcorr'] <= 19.1 - avg_ext_i)]\n",
    "gala_df_cut = gala_df[(gala_df['i'] > 9) & (gala_df['i'] <= 19.1)]\n",
    "\n",
    "# Check how many stars we are working with\n",
    "print(f\"Stars in truncated observed dataset: {len(observed_df_cut['radeg'])}\")\n",
    "print(f\"Stars in Gala dataset: {len(gala_df_cut['RA'])}\")"
   ]
  },
  {
   "cell_type": "markdown",
   "metadata": {},
   "source": [
    "# 4. Calculate Galactic 'l' and 'b' coordinates"
   ]
  },
  {
   "cell_type": "code",
   "execution_count": 5,
   "metadata": {},
   "outputs": [
    {
     "name": "stderr",
     "output_type": "stream",
     "text": [
      "C:\\Users\\smick\\AppData\\Local\\Temp\\ipykernel_22784\\866912144.py:8: SettingWithCopyWarning: \n",
      "A value is trying to be set on a copy of a slice from a DataFrame.\n",
      "Try using .loc[row_indexer,col_indexer] = value instead\n",
      "\n",
      "See the caveats in the documentation: https://pandas.pydata.org/pandas-docs/stable/user_guide/indexing.html#returning-a-view-versus-a-copy\n",
      "  observed_df_cut['l'] = coords.galactic.l.wrap_at(180 * u.degree).deg  # Wrap is needed because we have stars ranging from (-1,5) in 'l'\n",
      "C:\\Users\\smick\\AppData\\Local\\Temp\\ipykernel_22784\\866912144.py:9: SettingWithCopyWarning: \n",
      "A value is trying to be set on a copy of a slice from a DataFrame.\n",
      "Try using .loc[row_indexer,col_indexer] = value instead\n",
      "\n",
      "See the caveats in the documentation: https://pandas.pydata.org/pandas-docs/stable/user_guide/indexing.html#returning-a-view-versus-a-copy\n",
      "  observed_df_cut['b'] = coords.galactic.b.deg\n"
     ]
    }
   ],
   "source": [
    "# Create a SkyCoord object for observed stars. This is needed to convert in the next step.\n",
    "coords = SkyCoord(ra=observed_df_cut['ra'].values,\n",
    "                  dec=observed_df_cut['dec'].values,\n",
    "                  unit=(u.degree,u.degree),\n",
    "                  frame='icrs')  \n",
    "\n",
    "# Create new array of Galactic l and b coordinates\n",
    "observed_df_cut['l'] = coords.galactic.l.wrap_at(180 * u.degree).deg  # Wrap is needed because we have stars ranging from (-1,5) in 'l'\n",
    "observed_df_cut['b'] = coords.galactic.b.deg  "
   ]
  },
  {
   "cell_type": "markdown",
   "metadata": {},
   "source": [
    "# 5. Export"
   ]
  },
  {
   "cell_type": "code",
   "execution_count": 6,
   "metadata": {},
   "outputs": [],
   "source": [
    "observed_df_cut.to_csv('observed_stars_mag_limited.csv', index=False)\n",
    "gala_df.to_csv('gala_stars.csv')"
   ]
  }
 ],
 "metadata": {
  "kernelspec": {
   "display_name": "Python 3",
   "language": "python",
   "name": "python3"
  },
  "language_info": {
   "codemirror_mode": {
    "name": "ipython",
    "version": 3
   },
   "file_extension": ".py",
   "mimetype": "text/x-python",
   "name": "python",
   "nbconvert_exporter": "python",
   "pygments_lexer": "ipython3",
   "version": "3.10.4"
  }
 },
 "nbformat": 4,
 "nbformat_minor": 2
}
